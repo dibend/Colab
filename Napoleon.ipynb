{
  "nbformat": 4,
  "nbformat_minor": 0,
  "metadata": {
    "colab": {
      "provenance": [],
      "authorship_tag": "ABX9TyMxOKhMyPrWhVh3EyhdwowY",
      "include_colab_link": true
    },
    "kernelspec": {
      "name": "python3",
      "display_name": "Python 3"
    },
    "language_info": {
      "name": "python"
    }
  },
  "cells": [
    {
      "cell_type": "markdown",
      "metadata": {
        "id": "view-in-github",
        "colab_type": "text"
      },
      "source": [
        "<a href=\"https://colab.research.google.com/github/dibend/Colab/blob/main/Napoleon.ipynb\" target=\"_parent\"><img src=\"https://colab.research.google.com/assets/colab-badge.svg\" alt=\"Open In Colab\"/></a>"
      ]
    },
    {
      "cell_type": "code",
      "execution_count": 2,
      "metadata": {
        "colab": {
          "base_uri": "https://localhost:8080/",
          "height": 52
        },
        "id": "XLwvYhrVbvuz",
        "outputId": "9e275576-4303-4c3b-e9d5-80b2de9fa984"
      },
      "outputs": [
        {
          "output_type": "stream",
          "name": "stdout",
          "text": [
            "Filename (e.g. file.txt): nap.txt\n",
            "Translated text has been saved to nap.txt\n"
          ]
        },
        {
          "output_type": "display_data",
          "data": {
            "text/plain": [
              "<IPython.core.display.Javascript object>"
            ],
            "application/javascript": [
              "\n",
              "    async function download(id, filename, size) {\n",
              "      if (!google.colab.kernel.accessAllowed) {\n",
              "        return;\n",
              "      }\n",
              "      const div = document.createElement('div');\n",
              "      const label = document.createElement('label');\n",
              "      label.textContent = `Downloading \"${filename}\": `;\n",
              "      div.appendChild(label);\n",
              "      const progress = document.createElement('progress');\n",
              "      progress.max = size;\n",
              "      div.appendChild(progress);\n",
              "      document.body.appendChild(div);\n",
              "\n",
              "      const buffers = [];\n",
              "      let downloaded = 0;\n",
              "\n",
              "      const channel = await google.colab.kernel.comms.open(id);\n",
              "      // Send a message to notify the kernel that we're ready.\n",
              "      channel.send({})\n",
              "\n",
              "      for await (const message of channel.messages) {\n",
              "        // Send a message to notify the kernel that we're ready.\n",
              "        channel.send({})\n",
              "        if (message.buffers) {\n",
              "          for (const buffer of message.buffers) {\n",
              "            buffers.push(buffer);\n",
              "            downloaded += buffer.byteLength;\n",
              "            progress.value = downloaded;\n",
              "          }\n",
              "        }\n",
              "      }\n",
              "      const blob = new Blob(buffers, {type: 'application/binary'});\n",
              "      const a = document.createElement('a');\n",
              "      a.href = window.URL.createObjectURL(blob);\n",
              "      a.download = filename;\n",
              "      div.appendChild(a);\n",
              "      a.click();\n",
              "      div.remove();\n",
              "    }\n",
              "  "
            ]
          },
          "metadata": {}
        },
        {
          "output_type": "display_data",
          "data": {
            "text/plain": [
              "<IPython.core.display.Javascript object>"
            ],
            "application/javascript": [
              "download(\"download_bf954a5c-2fcc-4cab-be6b-b5731f2c53f8\", \"nap.txt\", 4948)"
            ]
          },
          "metadata": {}
        }
      ],
      "source": [
        "import requests\n",
        "import json\n",
        "import uuid\n",
        "import random\n",
        "from google.colab import userdata\n",
        "from google.colab import files\n",
        "\n",
        "# Add your key and endpoint\n",
        "subscription_key = userdata.get('azure_translator_key')\n",
        "endpoint = \"https://api.cognitive.microsofttranslator.com\"\n",
        "\n",
        "# location, also known as region.\n",
        "# required if you're using a multi-service or regional (not global) resource. It can be found in the Azure portal on the Keys and Endpoint page.\n",
        "location = \"eastus\"\n",
        "\n",
        "# Function to fetch text from Project Gutenberg\n",
        "def fetch_text(url):\n",
        "    response = requests.get(url)\n",
        "    return response.text\n",
        "\n",
        "# Function to translate text using Azure AI Translator\n",
        "def translate_text(text, subscription_key, endpoint, location, to_language, from_language):\n",
        "    constructed_url = f\"{endpoint}/translate\"\n",
        "    params = {\n",
        "        'api-version': '3.0',\n",
        "        'from': from_language,\n",
        "        'to': [to_language]\n",
        "    }\n",
        "    headers = {\n",
        "        'Ocp-Apim-Subscription-Key': subscription_key,\n",
        "        'Ocp-Apim-Subscription-Region': location,\n",
        "        'Content-Type': 'application/json',\n",
        "        'X-ClientTraceId': str(uuid.uuid4())\n",
        "    }\n",
        "    body = [{'text': text}]\n",
        "    response = requests.post(constructed_url, params=params, headers=headers, json=body)\n",
        "    return response.json()\n",
        "\n",
        "# Main process\n",
        "if __name__ == \"__main__\":\n",
        "    gutenberg_url = 'https://www.gutenberg.org/cache/epub/12230/pg12230.txt'\n",
        "    text = fetch_text(gutenberg_url)\n",
        "\n",
        "    full_text_length = len(text)\n",
        "    segment_size = 5000  # Define the segment size\n",
        "    if segment_size > full_text_length:\n",
        "        segment_size = full_text_length\n",
        "\n",
        "    start_index = random.randint(0, full_text_length - segment_size)\n",
        "    random_segment = text[start_index:start_index + segment_size]\n",
        "\n",
        "    translation_result = translate_text(random_segment, subscription_key, endpoint, location, 'en', 'fr')\n",
        "\n",
        "    if translation_result:\n",
        "        translated_text = \" \".join([translation['text'] for translation in translation_result[0]['translations']])\n",
        "        filename = input('Filename (e.g. file.txt): ')\n",
        "        with open(filename, 'w', encoding='utf-8') as file:\n",
        "            file.write(translated_text)\n",
        "        print(f\"Translated text has been saved to {filename}\")\n",
        "\n",
        "        # Uncomment the following line if running in Google Colab to download the file\n",
        "        files.download(filename)\n",
        "    else:\n",
        "        print(\"Failed to translate text.\")\n"
      ]
    }
  ]
}