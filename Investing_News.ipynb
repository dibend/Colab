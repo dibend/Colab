{
  "nbformat": 4,
  "nbformat_minor": 0,
  "metadata": {
    "colab": {
      "provenance": [],
      "authorship_tag": "ABX9TyOVIs4k/pAy+Et+kRXpku2O",
      "include_colab_link": true
    },
    "kernelspec": {
      "name": "python3",
      "display_name": "Python 3"
    },
    "language_info": {
      "name": "python"
    }
  },
  "cells": [
    {
      "cell_type": "markdown",
      "metadata": {
        "id": "view-in-github",
        "colab_type": "text"
      },
      "source": [
        "<a href=\"https://colab.research.google.com/github/dibend/Colab/blob/main/Investing_News.ipynb\" target=\"_parent\"><img src=\"https://colab.research.google.com/assets/colab-badge.svg\" alt=\"Open In Colab\"/></a>"
      ]
    },
    {
      "cell_type": "code",
      "source": [
        "# Install necessary libraries\n",
        "!pip install feedparser gradio"
      ],
      "metadata": {
        "id": "Ps5blCd0YYQd"
      },
      "execution_count": null,
      "outputs": []
    },
    {
      "cell_type": "code",
      "execution_count": 7,
      "metadata": {
        "colab": {
          "base_uri": "https://localhost:8080/",
          "height": 1000
        },
        "id": "huX4vUj9TmmW",
        "outputId": "39004360-4ac2-49d9-e846-e2d7c500b06b"
      },
      "outputs": [
        {
          "output_type": "stream",
          "name": "stdout",
          "text": [
            "Parsing feed: https://feeds.content.dowjones.io/public/rss/mw_topstories\n",
            "Successfully parsed 10 entries from feed: https://feeds.content.dowjones.io/public/rss/mw_topstories\n",
            "Parsing feed: https://feeds.content.dowjones.io/public/rss/mw_realtimeheadlines\n",
            "Successfully parsed 10 entries from feed: https://feeds.content.dowjones.io/public/rss/mw_realtimeheadlines\n",
            "Parsing feed: http://feeds.marketwatch.com/marketwatch/bulletins\n",
            "Successfully parsed 10 entries from feed: http://feeds.marketwatch.com/marketwatch/bulletins\n",
            "Parsing feed: https://feeds.content.dowjones.io/public/rss/mw_marketpulse\n",
            "Successfully parsed 30 entries from feed: https://feeds.content.dowjones.io/public/rss/mw_marketpulse\n",
            "Parsing feed: https://www.nasdaq.com/feed/nasdaq-original/rss.xml\n",
            "Successfully parsed 15 entries from feed: https://www.nasdaq.com/feed/nasdaq-original/rss.xml\n",
            "Parsing feed: https://www.nasdaq.com/feed/rssoutbound?category=Commodities\n",
            "Successfully parsed 15 entries from feed: https://www.nasdaq.com/feed/rssoutbound?category=Commodities\n",
            "Parsing feed: https://www.nasdaq.com/feed/rssoutbound?category=Cryptocurrencies\n",
            "Successfully parsed 15 entries from feed: https://www.nasdaq.com/feed/rssoutbound?category=Cryptocurrencies\n",
            "Parsing feed: https://www.nasdaq.com/feed/rssoutbound?category=Dividends\n",
            "Successfully parsed 15 entries from feed: https://www.nasdaq.com/feed/rssoutbound?category=Dividends\n",
            "Parsing feed: https://www.nasdaq.com/feed/rssoutbound?category=Earnings\n",
            "Successfully parsed 15 entries from feed: https://www.nasdaq.com/feed/rssoutbound?category=Earnings\n",
            "Parsing feed: https://www.nasdaq.com/feed/rssoutbound?category=ETFs\n",
            "Successfully parsed 15 entries from feed: https://www.nasdaq.com/feed/rssoutbound?category=ETFs\n",
            "Parsing feed: https://www.nasdaq.com/feed/rssoutbound?category=IPOs\n",
            "Successfully parsed 15 entries from feed: https://www.nasdaq.com/feed/rssoutbound?category=IPOs\n",
            "Parsing feed: https://www.nasdaq.com/feed/rssoutbound?category=Markets\n",
            "Successfully parsed 15 entries from feed: https://www.nasdaq.com/feed/rssoutbound?category=Markets\n",
            "Parsing feed: https://www.nasdaq.com/feed/rssoutbound?category=Options\n",
            "Successfully parsed 15 entries from feed: https://www.nasdaq.com/feed/rssoutbound?category=Options\n",
            "Parsing feed: https://www.nasdaq.com/feed/rssoutbound?category=Stocks\n",
            "Successfully parsed 15 entries from feed: https://www.nasdaq.com/feed/rssoutbound?category=Stocks\n",
            "Colab notebook detected. This cell will run indefinitely so that you can see errors and logs. To turn off, set debug=False in launch().\n",
            "Running on public URL: https://7db64e6e6a63946b98.gradio.live\n",
            "\n",
            "This share link expires in 72 hours. For free permanent hosting and GPU upgrades, run `gradio deploy` from Terminal to deploy to Spaces (https://huggingface.co/spaces)\n"
          ]
        },
        {
          "output_type": "display_data",
          "data": {
            "text/plain": [
              "<IPython.core.display.HTML object>"
            ],
            "text/html": [
              "<div><iframe src=\"https://7db64e6e6a63946b98.gradio.live\" width=\"100%\" height=\"500\" allow=\"autoplay; camera; microphone; clipboard-read; clipboard-write;\" frameborder=\"0\" allowfullscreen></iframe></div>"
            ]
          },
          "metadata": {}
        },
        {
          "output_type": "stream",
          "name": "stdout",
          "text": [
            "Keyboard interruption in main thread... closing server.\n",
            "Killing tunnel 127.0.0.1:7860 <> https://7db64e6e6a63946b98.gradio.live\n"
          ]
        },
        {
          "output_type": "execute_result",
          "data": {
            "text/plain": []
          },
          "metadata": {},
          "execution_count": 7
        }
      ],
      "source": [
        "# Import libraries\n",
        "import feedparser\n",
        "import gradio as gr\n",
        "from datetime import datetime\n",
        "\n",
        "# Define the RSS feed URLs and their categories\n",
        "rss_feeds = {\n",
        "    \"Top Stories\": \"https://feeds.content.dowjones.io/public/rss/mw_topstories\",\n",
        "    \"Real-Time Headlines\": \"https://feeds.content.dowjones.io/public/rss/mw_realtimeheadlines\",\n",
        "    \"Bulletins\": \"http://feeds.marketwatch.com/marketwatch/bulletins\",\n",
        "    \"Market Pulse\": \"https://feeds.content.dowjones.io/public/rss/mw_marketpulse\",\n",
        "    \"Nasdaq Original\": \"https://www.nasdaq.com/feed/nasdaq-original/rss.xml\",\n",
        "    \"Commodities\": \"https://www.nasdaq.com/feed/rssoutbound?category=Commodities\",\n",
        "    \"Cryptocurrencies\": \"https://www.nasdaq.com/feed/rssoutbound?category=Cryptocurrencies\",\n",
        "    \"Dividends\": \"https://www.nasdaq.com/feed/rssoutbound?category=Dividends\",\n",
        "    \"Earnings\": \"https://www.nasdaq.com/feed/rssoutbound?category=Earnings\",\n",
        "    \"ETFs\": \"https://www.nasdaq.com/feed/rssoutbound?category=ETFs\",\n",
        "    \"IPOs\": \"https://www.nasdaq.com/feed/rssoutbound?category=IPOs\",\n",
        "    \"Markets\": \"https://www.nasdaq.com/feed/rssoutbound?category=Markets\",\n",
        "    \"Options\": \"https://www.nasdaq.com/feed/rssoutbound?category=Options\",\n",
        "    \"Stocks\": \"https://www.nasdaq.com/feed/rssoutbound?category=Stocks\"\n",
        "}\n",
        "\n",
        "# Set User-Agent to mimic an iPhone\n",
        "user_agent = \"Mozilla/5.0 (iPhone; CPU iPhone OS 14_0 like Mac OS X) AppleWebKit/605.1.15 (KHTML, like Gecko) Version/14.0 Mobile/15E148 Safari/604.1\"\n",
        "\n",
        "# Function to parse a single RSS feed and return the latest headlines\n",
        "def parse_feed(url):\n",
        "    headers = {'User-Agent': user_agent}\n",
        "    feed = feedparser.parse(url, request_headers=headers)\n",
        "    return feed.entries\n",
        "\n",
        "# Function to get the latest headlines for each category\n",
        "def get_latest_headlines():\n",
        "    headlines = {}\n",
        "    for category, url in rss_feeds.items():\n",
        "        try:\n",
        "            print(f\"Parsing feed: {url}\")\n",
        "            entries = parse_feed(url)\n",
        "            if entries:\n",
        "                headlines[category] = entries[:5]  # Get the latest 5 entries for each category\n",
        "                print(f\"Successfully parsed {len(entries)} entries from feed: {url}\")\n",
        "            else:\n",
        "                print(f\"No entries found in feed: {url}\")\n",
        "        except Exception as e:\n",
        "            print(f\"Error parsing feed {url}: {e}\")\n",
        "            headlines[category] = []\n",
        "    return headlines\n",
        "\n",
        "# Function to format the headlines for display\n",
        "def format_headlines():\n",
        "    headlines = get_latest_headlines()\n",
        "    formatted_headlines = {category: \"\" for category in rss_feeds.keys()}\n",
        "    for category, entries in headlines.items():\n",
        "        for entry in entries:\n",
        "            formatted_headlines[category] += f\"Title: {entry.title}\\nLink: {entry.link}\\nPublished: {entry.published}\\n\\n\"\n",
        "    return formatted_headlines\n",
        "\n",
        "# Function to create Gradio interface with tabs for each category\n",
        "def create_interface():\n",
        "    headlines = format_headlines()\n",
        "    with gr.Blocks() as iface:\n",
        "        with gr.Tabs():\n",
        "            for category in rss_feeds.keys():\n",
        "                with gr.TabItem(category):\n",
        "                    gr.Markdown(headlines[category])\n",
        "    return iface\n",
        "\n",
        "# Create the Gradio interface\n",
        "iface = create_interface()\n",
        "\n",
        "# Launch the Gradio interface\n",
        "iface.launch(share=True, debug=True)\n"
      ]
    }
  ]
}